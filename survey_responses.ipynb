{
 "cells": [
  {
   "cell_type": "markdown",
   "metadata": {},
   "source": [
    "# Capstone Project Survey Responses"
   ]
  },
  {
   "cell_type": "code",
   "execution_count": 1,
   "metadata": {},
   "outputs": [],
   "source": [
    "import pandas as pd\n",
    "import numpy as np\n",
    "import matplotlib.pyplot as plt\n",
    "import seaborn as sns"
   ]
  },
  {
   "cell_type": "code",
   "execution_count": 54,
   "metadata": {},
   "outputs": [],
   "source": [
    "# Import survey response data\n",
    "survey = pd.read_csv(\"/Users/hayleeoyler/Downloads/survey_responses.csv\")"
   ]
  },
  {
   "cell_type": "code",
   "execution_count": 56,
   "metadata": {},
   "outputs": [],
   "source": [
    "# Rename column names\n",
    "survey = survey.rename(columns={\n",
    "    'My first choice project is (enter proposal number):': 'first_choice',\n",
    "    'My second choice project is (enter proposal number):': 'second_choice',\n",
    "    'My third choice project is (enter proposal number):': 'third_choice',\n",
    "    'My fourth choice project is (enter proposal number):': 'fourth_choice',\n",
    "})"
   ]
  },
  {
   "cell_type": "code",
   "execution_count": null,
   "metadata": {},
   "outputs": [
    {
     "data": {
      "text/plain": [
       "['first_choice', 'second_choice', 'third_choice', 'fourth_choice']"
      ]
     },
     "execution_count": 58,
     "metadata": {},
     "output_type": "execute_result"
    }
   ],
   "source": [
    "# Create a list of choices to iterate over\n",
    "column_names = survey.columns[2:6].to_list()"
   ]
  },
  {
   "cell_type": "code",
   "execution_count": null,
   "metadata": {},
   "outputs": [],
   "source": [
    "\n",
    "# Change the type of the choice responses to string and take a count of responses\n",
    "for column in column_names:\n",
    "    survey[column] = survey[column].astype('Int64')"
   ]
  },
  {
   "cell_type": "code",
   "execution_count": 43,
   "metadata": {},
   "outputs": [
    {
     "data": {
      "text/plain": [
       "array([1, 1, 2, 2, 3, 3, 1, 1])"
      ]
     },
     "execution_count": 43,
     "metadata": {},
     "output_type": "execute_result"
    }
   ],
   "source": [
    "survey.assign(column_count=pd.Series(survey.groupby('first_choice').size().values))\n",
    "survey.groupby('first_choice').size().values"
   ]
  },
  {
   "cell_type": "code",
   "execution_count": 67,
   "metadata": {},
   "outputs": [
    {
     "data": {
      "image/png": "[encoded data removed]",
      "text/plain": [
       "<Figure size 1200x400 with 4 Axes>"
      ]
     },
     "metadata": {},
     "output_type": "display_data"
    }
   ],
   "source": [
    "fig, axes = plt.subplots(nrows=1, ncols=4, figsize=(12,4))\n",
    "\n",
    "# ax = sns.countplot(survey, x='first_choice')\n",
    "\n",
    "for ax, i in zip(axes, column_names):\n",
    "    # ax.set_title(i)\n",
    "    sns.countplot(x=survey[i].dropna(), ax=ax, orient = 'h')\n",
    "    # survey[i].plot(ax=ax,\n",
    "    #                kind='bar')\n",
    "    # ax.set_xlim([0,9])\n",
    "    # ax.set_xticks(range(0,10))\n",
    "    ax.set_yticks(range(0,5))\n",
    "    \n",
    "# fig.suptitle('Top 3 energy sources for electric power plants in CA', fontsize=14)\n",
    "plt.show()                     \n"
   ]
  },
  {
   "cell_type": "code",
   "execution_count": 68,
   "metadata": {},
   "outputs": [
    {
     "data": {
      "text/html": [
       "<div>\n",
       "<style scoped>\n",
       "    .dataframe tbody tr th:only-of-type {\n",
       "        vertical-align: middle;\n",
       "    }\n",
       "\n",
       "    .dataframe tbody tr th {\n",
       "        vertical-align: top;\n",
       "    }\n",
       "\n",
       "    .dataframe thead th {\n",
       "        text-align: right;\n",
       "    }\n",
       "</style>\n",
       "<table border=\"1\" class=\"dataframe\">\n",
       "  <thead>\n",
       "    <tr style=\"text-align: right;\">\n",
       "      <th></th>\n",
       "      <th>Timestamp</th>\n",
       "      <th>Name</th>\n",
       "      <th>first_choice</th>\n",
       "      <th>second_choice</th>\n",
       "      <th>third_choice</th>\n",
       "      <th>fourth_choice</th>\n",
       "    </tr>\n",
       "  </thead>\n",
       "  <tbody>\n",
       "    <tr>\n",
       "      <th>0</th>\n",
       "      <td>11/5/2024 18:32:48</td>\n",
       "      <td>Haylee</td>\n",
       "      <td>5</td>\n",
       "      <td>2</td>\n",
       "      <td>&lt;NA&gt;</td>\n",
       "      <td>&lt;NA&gt;</td>\n",
       "    </tr>\n",
       "    <tr>\n",
       "      <th>1</th>\n",
       "      <td>11/5/2024 18:38:08</td>\n",
       "      <td>Joshua Mull</td>\n",
       "      <td>3</td>\n",
       "      <td>6</td>\n",
       "      <td>8</td>\n",
       "      <td>5</td>\n",
       "    </tr>\n",
       "    <tr>\n",
       "      <th>2</th>\n",
       "      <td>11/5/2024 18:40:04</td>\n",
       "      <td>Brooke</td>\n",
       "      <td>6</td>\n",
       "      <td>9</td>\n",
       "      <td>2</td>\n",
       "      <td>7</td>\n",
       "    </tr>\n",
       "    <tr>\n",
       "      <th>3</th>\n",
       "      <td>11/5/2024 18:40:24</td>\n",
       "      <td>Eva</td>\n",
       "      <td>6</td>\n",
       "      <td>1</td>\n",
       "      <td>5</td>\n",
       "      <td>&lt;NA&gt;</td>\n",
       "    </tr>\n",
       "    <tr>\n",
       "      <th>4</th>\n",
       "      <td>11/5/2024 18:41:14</td>\n",
       "      <td>Liz</td>\n",
       "      <td>2</td>\n",
       "      <td>5</td>\n",
       "      <td>4</td>\n",
       "      <td>1</td>\n",
       "    </tr>\n",
       "  </tbody>\n",
       "</table>\n",
       "</div>"
      ],
      "text/plain": [
       "            Timestamp         Name  first_choice  second_choice  third_choice  \\\n",
       "0  11/5/2024 18:32:48       Haylee             5              2          <NA>   \n",
       "1  11/5/2024 18:38:08  Joshua Mull             3              6             8   \n",
       "2  11/5/2024 18:40:04       Brooke             6              9             2   \n",
       "3  11/5/2024 18:40:24         Eva              6              1             5   \n",
       "4  11/5/2024 18:41:14          Liz             2              5             4   \n",
       "\n",
       "   fourth_choice  \n",
       "0           <NA>  \n",
       "1              5  \n",
       "2              7  \n",
       "3           <NA>  \n",
       "4              1  "
      ]
     },
     "execution_count": 68,
     "metadata": {},
     "output_type": "execute_result"
    }
   ],
   "source": [
    "survey.head()"
   ]
  },
  {
   "cell_type": "code",
   "execution_count": null,
   "metadata": {},
   "outputs": [],
   "source": []
  }
 ],
 "metadata": {
  "kernelspec": {
   "display_name": "base",
   "language": "python",
   "name": "python3"
  },
  "language_info": {
   "codemirror_mode": {
    "name": "ipython",
    "version": 3
   },
   "file_extension": ".py",
   "mimetype": "text/x-python",
   "name": "python",
   "nbconvert_exporter": "python",
   "pygments_lexer": "ipython3",
   "version": "3.8.19"
  }
 },
 "nbformat": 4,
 "nbformat_minor": 2
}
