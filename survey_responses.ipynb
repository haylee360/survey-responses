{
 "cells": [
  {
   "cell_type": "markdown",
   "metadata": {},
   "source": [
    "# Capstone Project Survey Responses"
   ]
  },
  {
   "cell_type": "code",
   "execution_count": 59,
   "metadata": {},
   "outputs": [],
   "source": [
    "import pandas as pd\n",
    "import numpy as np\n",
    "import matplotlib.pyplot as plt\n",
    "import seaborn as sns"
   ]
  },
  {
   "cell_type": "code",
   "execution_count": 68,
   "metadata": {},
   "outputs": [],
   "source": [
    "# Import survey response data\n",
    "survey = pd.read_csv(\"/Users/hayleeoyler/Downloads/survey_responses.csv\")"
   ]
  },
  {
   "cell_type": "code",
   "execution_count": 69,
   "metadata": {},
   "outputs": [],
   "source": [
    "# Rename column names\n",
    "survey = survey.rename(columns={\n",
    "    'My first choice project is (enter proposal number):': 'first_choice',\n",
    "    'My second choice project is (enter proposal number):': 'second_choice',\n",
    "    'My third choice project is (enter proposal number):': 'third_choice',\n",
    "    'My fourth choice project is (enter proposal number):': 'fourth_choice',\n",
    "})"
   ]
  },
  {
   "cell_type": "code",
   "execution_count": 70,
   "metadata": {},
   "outputs": [],
   "source": [
    "project_names = {\n",
    "    1 :'Energy data interface',\n",
    "    2:'Decarbonization 2035',\n",
    "    3:'Seafood emissions',\n",
    "    4:'School district utilites',\n",
    "    5:'Justice 40',\n",
    "    6:'Wildfire',\n",
    "    7:'Range shifts TNC',\n",
    "    8:'MPAs',\n",
    "    9:'Drought resiliency'\n",
    "}"
   ]
  },
  {
   "cell_type": "code",
   "execution_count": 71,
   "metadata": {},
   "outputs": [],
   "source": [
    "survey = survey.replace(project_names)"
   ]
  },
  {
   "cell_type": "code",
   "execution_count": 73,
   "metadata": {},
   "outputs": [],
   "source": [
    "survey.to_csv('survey_named.csv', index=False)"
   ]
  },
  {
   "cell_type": "code",
   "execution_count": 63,
   "metadata": {},
   "outputs": [],
   "source": [
    "# Create a list of choices to iterate over\n",
    "column_names = survey.columns[2:6].to_list()"
   ]
  },
  {
   "cell_type": "code",
   "execution_count": 64,
   "metadata": {},
   "outputs": [],
   "source": [
    "\n",
    "# Change the type of the choice responses to string and take a count of responses\n",
    "for column in column_names:\n",
    "    survey[column] = survey[column].astype('Int64')\n",
    "    # column_count =  survey.groupby(column).size().values\n",
    "    # survey_counts = pd.DataFrame(columns=['column_count'])"
   ]
  },
  {
   "cell_type": "code",
   "execution_count": 43,
   "metadata": {},
   "outputs": [
    {
     "data": {
      "text/plain": [
       "array([1, 1, 2, 2, 3, 3, 1, 1])"
      ]
     },
     "execution_count": 43,
     "metadata": {},
     "output_type": "execute_result"
    }
   ],
   "source": [
    "survey.assign(column_count=pd.Series(survey.groupby('first_choice').size().values))\n",
    "survey.groupby('first_choice').size().values"
   ]
  },
  {
   "cell_type": "code",
   "execution_count": 65,
   "metadata": {},
   "outputs": [
    {
     "data": {
      "text/plain": [
       "Timestamp        object\n",
       "Name             object\n",
       "first_choice      Int64\n",
       "second_choice     Int64\n",
       "third_choice      Int64\n",
       "fourth_choice     Int64\n",
       "dtype: object"
      ]
     },
     "execution_count": 65,
     "metadata": {},
     "output_type": "execute_result"
    }
   ],
   "source": [
    "survey.dtypes"
   ]
  },
  {
   "cell_type": "code",
   "execution_count": 67,
   "metadata": {},
   "outputs": [
    {
     "data": {
      "image/png": "[encoded data removed]",
      "text/plain": [
       "<Figure size 1200x400 with 4 Axes>"
      ]
     },
     "metadata": {},
     "output_type": "display_data"
    }
   ],
   "source": [
    "fig, axes = plt.subplots(nrows=1, ncols=4, figsize=(12,4))\n",
    "\n",
    "# ax = sns.countplot(survey, x='first_choice')\n",
    "\n",
    "for ax, i in zip(axes, column_names):\n",
    "    # ax.set_title(i)\n",
    "    sns.countplot(x=survey[i].dropna(), ax=ax, orient = 'h')\n",
    "    # survey[i].plot(ax=ax,\n",
    "                    # kind='barh')\n",
    "    # ax.set_xlim([0,9])\n",
    "    # ax.set_xticks(range(0,10))\n",
    "    ax.set_yticks(range(0,6))\n",
    "    \n",
    "# fig.suptitle('Top 3 energy sources for electric power plants in CA', fontsize=14)\n",
    "plt.show()                     \n"
   ]
  },
  {
   "cell_type": "code",
   "execution_count": null,
   "metadata": {},
   "outputs": [],
   "source": []
  }
 ],
 "metadata": {
  "kernelspec": {
   "display_name": "base",
   "language": "python",
   "name": "python3"
  },
  "language_info": {
   "codemirror_mode": {
    "name": "ipython",
    "version": 3
   },
   "file_extension": ".py",
   "mimetype": "text/x-python",
   "name": "python",
   "nbconvert_exporter": "python",
   "pygments_lexer": "ipython3",
   "version": "3.8.19"
  }
 },
 "nbformat": 4,
 "nbformat_minor": 2
}
